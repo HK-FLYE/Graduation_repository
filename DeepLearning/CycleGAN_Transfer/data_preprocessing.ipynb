{
 "cells": [
  {
   "cell_type": "markdown",
   "metadata": {},
   "source": [
    "生成模拟样本和对应标签"
   ]
  },
  {
   "cell_type": "code",
   "execution_count": 22,
   "metadata": {},
   "outputs": [],
   "source": [
    "import numpy as np\n",
    "import matplotlib.pyplot as plt\n",
    "from scipy.io import loadmat"
   ]
  },
  {
   "cell_type": "code",
   "execution_count": 23,
   "metadata": {},
   "outputs": [],
   "source": [
    "fs = 48000\n",
    "def generate_normal_signal(num_samples=1000, signal_length=2048, noise_level=0.1):\n",
    "    # 生成模拟正常信号\n",
    "    t = np.linspace(0, 1, fs)\n",
    "\n",
    "    frequency = 29.95  \n",
    "    amplitude = 1.0  \n",
    "    normal_signal = amplitude * np.sin(2 * np.pi * frequency * t)\n",
    "\n",
    "    noise = noise_level * np.random.normal(size=normal_signal.shape)\n",
    "    normal_signal += noise\n",
    "\n",
    "    return normal_signal[0:signal_length]\n",
    "\n",
    "def generate_fault_signal(fault_frequency, num_samples=1000, signal_length=2048, noise_level=0.1):\n",
    "    # 生成模拟故障信号\n",
    "    t = np.linspace(0, 1, fs)\n",
    "\n",
    "    normal_signal = generate_normal_signal(num_samples, signal_length, noise_level)\n",
    "    fault_amplitude = 0.8\n",
    "    fault_signal = fault_amplitude * np.sin(2 * np.pi * fault_frequency * t)\n",
    "    fault_signal = fault_signal[0:signal_length]\n",
    "\n",
    "    combined_signal = normal_signal + fault_signal\n",
    "\n",
    "    return combined_signal\n",
    "\n",
    "def generate_labels(num_samples, fault_type):\n",
    "\n",
    "    if fault_type == 'normal':\n",
    "        return np.zeros(num_samples)  # 正常信号标签为0\n",
    "    elif fault_type == 'outer':\n",
    "        return np.ones(num_samples)  # 外圈故障标签为1\n",
    "    elif fault_type == 'inner':\n",
    "        return np.full(num_samples, 2)  # 内圈故障标签为2\n",
    "    elif fault_type == 'ball':\n",
    "        return np.full(num_samples, 3)  # 球故障标签为3\n",
    "    else:\n",
    "        raise ValueError(\"Unknown fault type!\")\n"
   ]
  },
  {
   "cell_type": "code",
   "execution_count": 24,
   "metadata": {},
   "outputs": [],
   "source": [
    "num_signals = 30\n",
    "signal_length = 2048\n",
    "\n",
    "#生成正常信号\n",
    "normal_signals = np.array([generate_normal_signal(num_samples=1000, signal_length=signal_length) for _ in range(num_signals)])\n",
    "normal_labels = generate_labels(num_signals, 'normal')\n",
    "\n",
    "#生成外圈故障信号\n",
    "outer_fault_signals = np.array([generate_fault_signal(107.22) for _ in range(num_signals)])\n",
    "outer_fault_labels = generate_labels(num_signals, 'outer')\n",
    "\n",
    "#生成内圈故障信号\n",
    "inner_fault_signals = np.array([generate_fault_signal(162.3) for _ in range(num_signals)])\n",
    "inner_fault_labels = generate_labels(num_signals, 'inner')\n",
    "\n",
    "#生成滚珠故障信号\n",
    "ball_fault_signals = np.array([generate_fault_signal(70.68) for _ in range(num_signals)])\n",
    "ball_fault_labels = generate_labels(num_signals, 'ball')\n",
    "\n",
    "all_signals = np.concatenate([normal_signals, outer_fault_signals, inner_fault_signals, ball_fault_signals])\n",
    "all_labels = np.concatenate([normal_labels, outer_fault_labels, inner_fault_labels, ball_fault_labels])\n",
    "\n",
    "np.save('simulate_signals.npy', all_signals)\n",
    "np.save('simulate_labels.npy', all_labels)"
   ]
  },
  {
   "cell_type": "markdown",
   "metadata": {},
   "source": [
    "获取真实正常样本"
   ]
  },
  {
   "cell_type": "code",
   "execution_count": 25,
   "metadata": {},
   "outputs": [],
   "source": [
    "#读取真实正常数据样本\n",
    "source = loadmat('N.mat')\n",
    "\n",
    "def get_data(source, fs):\n",
    "    data_DE = []\n",
    "    data_FE = []\n",
    "    data_Speed = []\n",
    "\n",
    "    for i, key in enumerate(source.keys()):\n",
    "        if i == 3:\n",
    "            data_DE = source[key].flatten()\n",
    "        elif i == 4:\n",
    "            data_FE = source[key].flatten()\n",
    "        elif i == 5:\n",
    "            data_Speed = source[key].flatten()\n",
    "    t  = np.arange(len(data_DE))/fs\n",
    "    return t, data_DE, data_FE, data_Speed\n",
    "\n",
    "fs = 48000\n",
    "\n",
    "t, data_DE, data_FE, data_Speed = get_data(source, fs)\n",
    "\n",
    "#从数据中随机获取正常数据样本\n",
    "def random_sample(long_array, sample_num):\n",
    "    array_length = len(long_array)\n",
    "    num_samples = sample_num\n",
    "    samples = []\n",
    "    if num_samples * 2048 > array_length:\n",
    "        return samples\n",
    "    start_indices = np.random.randint(0, array_length - 2047, num_samples)\n",
    "    \n",
    "    for start in start_indices:\n",
    "        end = start + 2048\n",
    "        if end > array_length:\n",
    "            sample = long_array[-2048:]\n",
    "            #print(len(sample))\n",
    "        else:\n",
    "            sample = long_array[start:end]\n",
    "            #print(len(sample))\n",
    "        samples.append(sample)\n",
    "    return samples\n",
    "\n",
    "real_samples = random_sample(data_DE, 30)\n",
    "real_labels = generate_labels(30, 'normal')\n",
    "\n",
    "np.save('real_signals.npy', real_samples)\n",
    "np.save('real_labels.npy', real_labels)"
   ]
  }
 ],
 "metadata": {
  "kernelspec": {
   "display_name": "pytorch",
   "language": "python",
   "name": "python3"
  },
  "language_info": {
   "codemirror_mode": {
    "name": "ipython",
    "version": 3
   },
   "file_extension": ".py",
   "mimetype": "text/x-python",
   "name": "python",
   "nbconvert_exporter": "python",
   "pygments_lexer": "ipython3",
   "version": "3.8.18"
  }
 },
 "nbformat": 4,
 "nbformat_minor": 2
}
